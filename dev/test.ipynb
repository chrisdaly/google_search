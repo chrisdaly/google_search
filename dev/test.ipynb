{
 "cells": [
  {
   "cell_type": "code",
   "execution_count": 1,
   "metadata": {},
   "outputs": [],
   "source": [
    "from google_search import *\n",
    "from bs4 import BeautifulSoup\n",
    "import json"
   ]
  },
  {
   "cell_type": "code",
   "execution_count": 2,
   "metadata": {},
   "outputs": [],
   "source": [
    "with open(\"./1_0.html\", \"r\") as f:\n",
    "    html = f.read()"
   ]
  },
  {
   "cell_type": "code",
   "execution_count": 3,
   "metadata": {},
   "outputs": [],
   "source": [
    "soup = BeautifulSoup(html)"
   ]
  },
  {
   "cell_type": "code",
   "execution_count": 4,
   "metadata": {},
   "outputs": [],
   "source": [
    "scripts = [x.get_text() for x in soup.find_all(\"script\")]\n",
    "scripts = [x for x in scripts if x.startswith(\"(function(){var s='data:image/jpeg;base64\")]"
   ]
  },
  {
   "cell_type": "code",
   "execution_count": 5,
   "metadata": {},
   "outputs": [],
   "source": [
    "script = scripts[3]"
   ]
  },
  {
   "cell_type": "code",
   "execution_count": 6,
   "metadata": {},
   "outputs": [],
   "source": [
    "def get_real_data_src(script: str) -> dict:\n",
    "    placeholder_ids = script.split(\";var ii=\")[1].split(\";\")[0].replace(\"'\", '\"')\n",
    "    placeholder_ids = json.loads(placeholder_ids)\n",
    "    real_src = script.split(\"(function(){var s='\")[1].split(\"';var ii\")[0]\n",
    "\n",
    "    mapping = {id_: real_src for id_ in placeholder_ids}\n",
    "    return mapping"
   ]
  },
  {
   "cell_type": "code",
   "execution_count": 7,
   "metadata": {},
   "outputs": [],
   "source": [
    "# query = 'Tribes of Europa'\n",
    "# query_id = '1'\n",
    "# params = {\n",
    "#     'start': 0,\n",
    "#     'num': 100,\n",
    "#     'tbm': 'nws',\n",
    "#     'hl': 'de',\n",
    "#     'gl': 'DE',\n",
    "#     # 'cr': 'countryDE',\n",
    "#     # 'lr': \"lang_de\"   \n",
    "# }\n",
    "\n",
    "# data = get_all_data(query, params, 1)\n",
    "\n",
    "# # df = df[df[\"language\"] == language]\n"
   ]
  },
  {
   "cell_type": "code",
   "execution_count": 12,
   "metadata": {},
   "outputs": [],
   "source": [
    "import base64"
   ]
  },
  {
   "cell_type": "code",
   "execution_count": 20,
   "metadata": {},
   "outputs": [],
   "source": []
  },
  {
   "cell_type": "code",
   "execution_count": 22,
   "metadata": {},
   "outputs": [],
   "source": [
    "for r in results:\n",
    "    id_ = r.get(\"id\")\n",
    "    string = r.get(\"image\")\n",
    "    if string:\n",
    "        file_path = f'./{id_}.jpg'\n",
    "        download_image(string, file_path)\n"
   ]
  },
  {
   "cell_type": "code",
   "execution_count": null,
   "metadata": {},
   "outputs": [],
   "source": [
    "import base64"
   ]
  },
  {
   "cell_type": "code",
   "execution_count": null,
   "metadata": {},
   "outputs": [],
   "source": [
    "scripts = [x.text for x in soup.find_all(\"script\")]\n",
    "scripts = [x for x in scripts if x.startswith(\"(function(){var s='data:image/jpeg;base64\")]\n"
   ]
  },
  {
   "cell_type": "code",
   "execution_count": null,
   "metadata": {},
   "outputs": [],
   "source": []
  },
  {
   "cell_type": "code",
   "execution_count": null,
   "metadata": {},
   "outputs": [],
   "source": []
  },
  {
   "cell_type": "code",
   "execution_count": null,
   "metadata": {},
   "outputs": [],
   "source": [
    "string = \n",
    "#\"data:image/jpeg;base64,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\"\n",
    "string = string.split('base64,')[1]\n",
    "\n",
    "image_data = base64.decodebytes(string.encode(\"ascii\"))\n",
    "filename = f'{id_}.jpg'  # I assume you have a way of picking unique filenames\n",
    "with open(filename, 'wb') as f:\n",
    "    f.write(image_data)"
   ]
  },
  {
   "cell_type": "code",
   "execution_count": null,
   "metadata": {},
   "outputs": [],
   "source": [
    "string.encode(\"ascii\")"
   ]
  },
  {
   "cell_type": "code",
   "execution_count": null,
   "metadata": {},
   "outputs": [],
   "source": []
  },
  {
   "cell_type": "code",
   "execution_count": null,
   "metadata": {},
   "outputs": [],
   "source": [
    "stringbase64.decodebytes"
   ]
  },
  {
   "cell_type": "code",
   "execution_count": null,
   "metadata": {},
   "outputs": [],
   "source": [
    "\n",
    "data = 'iVBORw0KGgoAAAANSUhEUgAAABAAAAAQCAMAAAAoLQ9TAAAAGXRFWHRTb2Z0d2FyZQBBZG9iZSBJbWFnZVJlYWR5ccllPAAAADBQTFRFA6b1q Ci5/f2lt/9yu3 Y8v2cMpb1/DSJbz5i9R2NLwfLrWbw m T8I8////////SvMAbAAAABB0Uk5T////////////////////AOAjXRkAAACYSURBVHjaLI8JDgMgCAQ5BVG3//9t0XYTE2Y5BPq0IGpwtxtTP4G5IFNMnmEKuCopPKUN8VTNpEylNgmCxjZa2c1kafpHSvMkX6sWe7PTkwRX1dY7gdyMRHZdZ98CF6NZT2ecMVaL9tmzTtMYcwbP y3XeTgZkF5s1OSHwRzo1fkILgWC5R0X4BHYu7t/136wO71DbvwVYADUkQegpokSjwAAAABJRU5ErkJggg=='.replace(' ', '+')\n",
    "imgdata = base64.b64decode(data)\n",
    "filename = 'some_image.jpg'  # I assume you have a way of picking unique filenames\n",
    "with open(filename, 'wb') as f:\n",
    "        f.write(imgdata)"
   ]
  }
 ],
 "metadata": {
  "kernelspec": {
   "display_name": "Python 3",
   "language": "python",
   "name": "python3"
  },
  "language_info": {
   "codemirror_mode": {
    "name": "ipython",
    "version": 3
   },
   "file_extension": ".py",
   "mimetype": "text/x-python",
   "name": "python",
   "nbconvert_exporter": "python",
   "pygments_lexer": "ipython3",
   "version": "3.7.4"
  }
 },
 "nbformat": 4,
 "nbformat_minor": 2
}
